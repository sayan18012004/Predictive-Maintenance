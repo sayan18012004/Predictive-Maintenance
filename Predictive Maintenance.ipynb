{
  "cells": [
    {
      "cell_type": "code",
      "execution_count": null,
      "metadata": {
        "id": "oBpYbDh5OJtm"
      },
      "outputs": [],
      "source": [
        "import numpy as np\n",
        "import pandas as pd\n",
        "from matplotlib import pyplot as plt\n",
        "from sklearn.ensemble import RandomForestRegressor\n",
        "import sklearn\n",
        "from sklearn.metrics import mean_squared_error, r2_score\n",
        "import os\n",
        "from sklearn.model_selection import train_test_split\n",
        "from sklearn.preprocessing import StandardScaler\n",
        "import random"
      ]
    },
    {
      "cell_type": "code",
      "execution_count": null,
      "metadata": {
        "id": "pJN1QrXPoK0c"
      },
      "outputs": [],
      "source": [
        "import seaborn as sns"
      ]
    },
    {
      "cell_type": "code",
      "execution_count": null,
      "metadata": {
        "id": "UiXz2PTCRyuZ"
      },
      "outputs": [],
      "source": [
        "index_names = ['unit_number', 'time_cycles']\n",
        "setting_names = ['setting_1', 'setting_2', 'setting_3']\n",
        "sensor_names = ['s_{}'.format(i+1) for i in range(0,21)]\n",
        "col_names = index_names + setting_names + sensor_names"
      ]
    },
    {
      "cell_type": "code",
      "execution_count": null,
      "metadata": {
        "colab": {
          "base_uri": "https://localhost:8080/"
        },
        "id": "RyhJLjPrOjIF",
        "outputId": "7ecab4a1-7339-4dc1-9ff0-f18065e83196"
      },
      "outputs": [],
      "source": [
        "\n",
        "dftrain = pd.read_csv(\"Dataset/train_FD001.txt\",sep='\\s+',header=None,index_col=False,names=col_names)\n",
        "dfvalid = pd.read_csv(\"Dataset/test_FD001.txt\",sep='\\s+',header=None,index_col=False,names=col_names)\n",
        "y_valid = pd.read_csv(\"Dataset/RUL_FD001.txt\",sep='\\s+',header=None,index_col=False,names=['RUL'])\n",
        "dfvalid.shape"
      ]
    },
    {
      "cell_type": "code",
      "execution_count": null,
      "metadata": {
        "id": "rOs13FF0R_pI"
      },
      "outputs": [],
      "source": [
        "train = dftrain.copy()\n",
        "valid =dfvalid.copy()"
      ]
    },
    {
      "cell_type": "code",
      "execution_count": null,
      "metadata": {
        "colab": {
          "base_uri": "https://localhost:8080/",
          "height": 443
        },
        "id": "1Y6f4kHvQapO",
        "outputId": "12fde11f-aff5-46a3-e616-5f640addb4ab"
      },
      "outputs": [],
      "source": [
        "train"
      ]
    },
    {
      "cell_type": "code",
      "execution_count": null,
      "metadata": {
        "colab": {
          "base_uri": "https://localhost:8080/"
        },
        "id": "T-6sZNJEakkW",
        "outputId": "505a9070-f20c-4d90-9570-8ddf52643428"
      },
      "outputs": [],
      "source": [
        "print('Shape of the train dataset : ',train.shape)\n",
        "print('Shape of the validation dataset : ',valid.shape)\n",
        "print('Percentage of the validation dataset : ',len(valid)/(len(valid)+len(train)))\n"
      ]
    },
    {
      "cell_type": "code",
      "execution_count": null,
      "metadata": {
        "colab": {
          "base_uri": "https://localhost:8080/"
        },
        "id": "etVs_jI6av5V",
        "outputId": "8fdd82a9-eddc-4b02-b4a5-93da3525ab63"
      },
      "outputs": [],
      "source": [
        "print('Total None values in the train dataset : ',train.isna().sum())"
      ]
    },
    {
      "cell_type": "code",
      "execution_count": null,
      "metadata": {
        "colab": {
          "base_uri": "https://localhost:8080/",
          "height": 300
        },
        "id": "vUvhKfy8a3bA",
        "outputId": "e8a04b0a-0e4f-4810-ae36-977a8626b474"
      },
      "outputs": [],
      "source": [
        "train.loc[:,['unit_number','time_cycles']].describe()"
      ]
    },
    {
      "cell_type": "code",
      "execution_count": null,
      "metadata": {
        "colab": {
          "base_uri": "https://localhost:8080/",
          "height": 707
        },
        "id": "i31ki_QVbMe9",
        "outputId": "4f65f3f0-c0bc-4059-eaa1-0acdfc42e16c"
      },
      "outputs": [],
      "source": [
        "train.loc[:,'s_1':].describe().transpose()"
      ]
    },
    {
      "cell_type": "code",
      "execution_count": null,
      "metadata": {
        "colab": {
          "base_uri": "https://localhost:8080/",
          "height": 1000
        },
        "id": "XFt37GgJblM0",
        "outputId": "47478af1-2f67-4361-bea0-1fe2fb0d0664"
      },
      "outputs": [],
      "source": [
        "max_time_cycles=train[index_names].groupby('unit_number').max()\n",
        "plt.figure(figsize=(20,50))\n",
        "ax=max_time_cycles['time_cycles'].plot(kind='barh',width=0.8, stacked=True,align='center')\n",
        "plt.title('Turbofan Engines LifeTime',fontweight='bold',size=30)\n",
        "plt.xlabel('Time cycle',fontweight='bold',size=20)\n",
        "plt.xticks(size=15)\n",
        "plt.ylabel('unit',fontweight='bold',size=20)\n",
        "plt.yticks(size=15)\n",
        "plt.grid(True)\n",
        "plt.tight_layout()\n",
        "plt.show()"
      ]
    },
    {
      "cell_type": "code",
      "execution_count": null,
      "metadata": {
        "id": "H3L0O0aUndGg"
      },
      "outputs": [],
      "source": [
        "def add_RUL_column(df):\n",
        "    train_grouped_by_unit = df.groupby(by='unit_number')\n",
        "    max_time_cycles = train_grouped_by_unit['time_cycles'].max()\n",
        "    merged = df.merge(max_time_cycles.to_frame(name='max_time_cycle'), left_on='unit_number',right_index=True)\n",
        "    merged[\"RUL\"] = merged[\"max_time_cycle\"] - merged['time_cycles']\n",
        "    merged = merged.drop(\"max_time_cycle\", axis=1)\n",
        "    return merged"
      ]
    },
    {
      "cell_type": "code",
      "execution_count": null,
      "metadata": {
        "id": "tih0IDITnluE"
      },
      "outputs": [],
      "source": [
        "train = add_RUL_column(train)"
      ]
    },
    {
      "cell_type": "code",
      "execution_count": null,
      "metadata": {
        "colab": {
          "base_uri": "https://localhost:8080/",
          "height": 423
        },
        "id": "0P-LEyO1nrwL",
        "outputId": "6b32179d-5b08-4097-b1df-047eaf485397"
      },
      "outputs": [],
      "source": [
        "train[['unit_number','RUL']]"
      ]
    },
    {
      "cell_type": "code",
      "execution_count": null,
      "metadata": {
        "colab": {
          "base_uri": "https://localhost:8080/",
          "height": 255
        },
        "id": "KlMOZpKIn3bq",
        "outputId": "759cc8e3-5e8b-411b-88c2-47c0ec42f5e6"
      },
      "outputs": [],
      "source": [
        "maxrul_u = train.groupby('unit_number').max().reset_index()\n",
        "maxrul_u.head()"
      ]
    },
    {
      "cell_type": "code",
      "execution_count": null,
      "metadata": {
        "colab": {
          "base_uri": "https://localhost:8080/"
        },
        "id": "Wtkk7F2dn9ou",
        "outputId": "d0f30e48-c32c-40c6-8f3a-0ce79112d2d1"
      },
      "outputs": [],
      "source": [
        "Sensor_dictionary={}\n",
        "dict_list=[ \"(Fan inlet temperature) (◦R)\",\n",
        "\"(LPC outlet temperature) (◦R)\",\n",
        "\"(HPC outlet temperature) (◦R)\",\n",
        "\"(LPT outlet temperature) (◦R)\",\n",
        "\"(Fan inlet Pressure) (psia)\",\n",
        "\"(bypass-duct pressure) (psia)\",\n",
        "\"(HPC outlet pressure) (psia)\",\n",
        "\"(Physical fan speed) (rpm)\",\n",
        "\"(Physical core speed) (rpm)\",\n",
        "\"(Engine pressure ratio(P50/P2)\",\n",
        "\"(HPC outlet Static pressure) (psia)\",\n",
        "\"(Ratio of fuel flow to Ps30) (pps/psia)\",\n",
        "\"(Corrected fan speed) (rpm)\",\n",
        "\"(Corrected core speed) (rpm)\",\n",
        "\"(Bypass Ratio) \",\n",
        "\"(Burner fuel-air ratio)\",\n",
        "\"(Bleed Enthalpy)\",\n",
        "\"(Required fan speed)\",\n",
        "\"(Required fan conversion speed)\",\n",
        "\"(High-pressure turbines Cool air flow)\",\n",
        "\"(Low-pressure turbines Cool air flow)\" ]\n",
        "i=1\n",
        "for x in dict_list :\n",
        "    Sensor_dictionary['s_'+str(i)]=x\n",
        "    i+=1\n",
        "Sensor_dictionary"
      ]
    },
    {
      "cell_type": "code",
      "execution_count": null,
      "metadata": {
        "id": "CKCUWUcIo5-i"
      },
      "outputs": [],
      "source": [
        "from sklearn.model_selection import train_test_split\n",
        "drop_labels = index_names+setting_names\n",
        "X_train=train.drop(columns=drop_labels).copy()\n",
        "X_train, X_test, y_train, y_test=train_test_split(X_train,X_train['RUL'], test_size=0.3, random_state=42)"
      ]
    },
    {
      "cell_type": "code",
      "execution_count": null,
      "metadata": {
        "id": "9cIsxcUKq_IL"
      },
      "outputs": [],
      "source": [
        "from sklearn.preprocessing import MinMaxScaler\n",
        "scaler = MinMaxScaler()\n",
        "X_train.drop(columns=['RUL'], inplace=True)\n",
        "X_test.drop(columns=['RUL'], inplace=True)\n",
        "X_train_s=scaler.fit_transform(X_train)\n",
        "X_test_s=scaler.fit_transform(X_test)\n",
        "X_valid = valid.groupby('unit_number').last().reset_index().drop(columns=drop_labels)\n",
        "\n",
        "X_valid_s=scaler.fit_transform(X_valid)"
      ]
    },
    {
      "cell_type": "code",
      "execution_count": null,
      "metadata": {
        "colab": {
          "base_uri": "https://localhost:8080/"
        },
        "id": "RTHhMByUsUjA",
        "outputId": "4234f551-b957-4216-b53c-6590d010986f"
      },
      "outputs": [],
      "source": [
        "print(X_train.columns)"
      ]
    },
    {
      "cell_type": "code",
      "execution_count": null,
      "metadata": {
        "colab": {
          "base_uri": "https://localhost:8080/"
        },
        "id": "hD9w6BzKsxys",
        "outputId": "6f50a7e3-8018-4812-851d-8b0b8bab23dc"
      },
      "outputs": [],
      "source": [
        "print(X_valid_s.shape)\n",
        "print(y_valid.shape)"
      ]
    },
    {
      "cell_type": "code",
      "execution_count": null,
      "metadata": {
        "id": "8bI3GjFQv5sO"
      },
      "outputs": [],
      "source": [
        "class Linear_Regression:\n",
        "    def __init__(self, lr=0.01, iterations=150):\n",
        "        self.lr = lr\n",
        "        self.iterations = iterations\n",
        "\n",
        "    def fit(self, X, Y):\n",
        "        self.l, self.p = X.shape\n",
        "        self.W = np.zeros(self.p)\n",
        "        self.b = 0\n",
        "        self.X = X\n",
        "        self.Y = Y\n",
        "        for i in range(self.iterations):\n",
        "            self.weight_updater()\n",
        "        return self\n",
        "\n",
        "    def weight_updater(self):\n",
        "        Y_pred = self.predict(self.X)\n",
        "\n",
        "        dW = - (2 * (self.X.T).dot(self.Y - Y_pred)) / self.l\n",
        "        db = - 2 * np.sum(self.Y - Y_pred) / self.l\n",
        "\n",
        "        self.b = self.b - self.lr * db\n",
        "        self.W = self.W - self.lr * dW\n",
        "        return self\n",
        "\n",
        "    def predict(self, X):\n",
        "        return X.dot(self.W) + self.b\n"
      ]
    },
    {
      "cell_type": "code",
      "execution_count": null,
      "metadata": {
        "id": "Ev4oMLWCtTst"
      },
      "outputs": [],
      "source": [
        "from sklearn.svm import SVR\n",
        "import tensorflow as tf\n",
        "regressor = SVR(kernel='rbf')"
      ]
    },
    {
      "cell_type": "code",
      "execution_count": null,
      "metadata": {
        "id": "aNKAL1krtay-"
      },
      "outputs": [],
      "source": [
        "rf = RandomForestRegressor(max_features=\"sqrt\", random_state=42)"
      ]
    },
    {
      "cell_type": "code",
      "execution_count": null,
      "metadata": {
        "id": "vTAvbcFPthNY"
      },
      "outputs": [],
      "source": [
        "def evaluate(y_true, y_hat, label='test'):\n",
        "    mse = mean_squared_error(y_true, y_hat)\n",
        "    rmse = np.sqrt(mse)\n",
        "    variance = r2_score(y_true, y_hat)\n",
        "    print('{} set RMSE:{}, R2:{}'.format(label, rmse, variance))"
      ]
    },
    {
      "cell_type": "code",
      "execution_count": null,
      "metadata": {
        "colab": {
          "base_uri": "https://localhost:8080/"
        },
        "id": "GUOqPktotqfn",
        "outputId": "47f47fc5-1f0e-47cb-aa63-78e9f2e334b2"
      },
      "outputs": [],
      "source": [
        "print('maximum of y_train : ',y_train.max())\n",
        "print('maximum of y_test : ',y_test.max())\n",
        "print('maximum of y_valid : ',y_valid.max())"
      ]
    },
    {
      "cell_type": "code",
      "execution_count": null,
      "metadata": {
        "colab": {
          "base_uri": "https://localhost:8080/",
          "height": 499
        },
        "id": "BCVgfI3stzrJ",
        "outputId": "b4493ffb-134c-49f1-e556-ed83428af0a4"
      },
      "outputs": [],
      "source": [
        "plt.hist(y_test)"
      ]
    },
    {
      "cell_type": "code",
      "execution_count": null,
      "metadata": {
        "id": "ij48Bp5SuBw8"
      },
      "outputs": [],
      "source": [
        "drop_labels2=['s_1', 's_5','s_6','s_10',  's_16', 's_18', 's_19']\n",
        "X_train_2=X_train.drop(columns=drop_labels2, axis=1)\n",
        "X_test_2=X_test.drop(columns=drop_labels2, axis=1)\n",
        "X_train_2_s=scaler.fit_transform(X_train_2)\n",
        "X_test_2_s=scaler.fit_transform(X_test_2)\n",
        "y_train_clip=y_train.clip(upper=195)\n",
        "X_valid_2=X_valid.drop(columns=drop_labels2, axis=1)\n",
        "X_valid_2_s=scaler.fit_transform(X_valid_2)"
      ]
    },
    {
      "cell_type": "code",
      "execution_count": null,
      "metadata": {
        "colab": {
          "base_uri": "https://localhost:8080/"
        },
        "id": "m8axEfL_ybHW",
        "outputId": "34eec5cf-37af-40d3-9ada-fdc1f9abc27e"
      },
      "outputs": [],
      "source": [
        "import xgboost\n",
        "xgb = xgboost.XGBRegressor(n_estimators=110, learning_rate=0.02, gamma=0, subsample=0.8,colsample_bytree=0.5, max_depth=3)\n",
        "xgb.fit(X_train_2_s, y_train_clip)\n",
        "\n",
        "\n",
        "y_xgb_train = xgb.predict(X_train_2_s)\n",
        "evaluate(y_train_clip,y_xgb_train, label='train')\n",
        "\n",
        "y_xgb_test = xgb.predict(X_test_2_s)\n",
        "evaluate(y_test, y_xgb_test, label='test')\n",
        "\n",
        "y_xgb_valid = xgb.predict(X_valid_2_s)\n",
        "evaluate(y_valid, y_xgb_valid, label='valid')"
      ]
    },
    {
      "cell_type": "code",
      "execution_count": null,
      "metadata": {
        "colab": {
          "base_uri": "https://localhost:8080/"
        },
        "id": "i3JC0F9WuPbg",
        "outputId": "7ac3cd25-c389-4abc-8be0-0fdcbc9fe2e2"
      },
      "outputs": [],
      "source": [
        "df=train.copy()\n",
        "for x in X_train_2.columns:\n",
        "    df[x+'_rm']=0\n",
        "\n",
        "\n",
        "df.columns"
      ]
    },
    {
      "cell_type": "code",
      "execution_count": null,
      "metadata": {
        "id": "2sosAgyou8wa"
      },
      "outputs": [],
      "source": [
        "drop_labels2=['s_1', 's_5','s_6','s_10',  's_16', 's_18', 's_19']\n",
        "df=df.drop(columns=setting_names+drop_labels2+['RUL'], axis=1)\n",
        "\n",
        "X_valid_3=valid.drop(columns=index_names+setting_names+drop_labels2, axis=1)"
      ]
    },
    {
      "cell_type": "code",
      "execution_count": null,
      "metadata": {
        "id": "NFb-1UwUvAkX"
      },
      "outputs": [],
      "source": [
        "def update_rolling_mean(data, mask):\n",
        "    for x, group in mask.groupby(\"unit_number\"):\n",
        "        for x in X_train_2.columns:\n",
        "            data.loc[group.index[10:], x+\"_rm\"] = data.loc[group.index, x].rolling(10).mean()[10:]\n",
        "            data.loc[group.index[:10], x+\"_rm\"] = data.loc[group.index[:10], x]\n",
        "\n",
        "update_rolling_mean(df, df)\n",
        "update_rolling_mean(X_valid_3, valid)\n",
        "\n",
        "X_valid_3=X_valid_3.fillna(0)"
      ]
    },
    {
      "cell_type": "code",
      "execution_count": null,
      "metadata": {
        "id": "RIU8KUEgvIyv"
      },
      "outputs": [],
      "source": [
        "df.iloc[-1,-14:]=df.iloc[-2,-14:]\n",
        "X_valid_3.iloc[-1,-14:]=X_valid_3.iloc[-2,-14:]"
      ]
    },
    {
      "cell_type": "code",
      "execution_count": null,
      "metadata": {
        "id": "tFt2tNiwvKzD"
      },
      "outputs": [],
      "source": [
        "train_tm=df"
      ]
    },
    {
      "cell_type": "code",
      "execution_count": null,
      "metadata": {
        "id": "aF0g0rB5vOx2"
      },
      "outputs": [],
      "source": [
        "train_tm=train_tm.drop(columns=index_names, axis=1)"
      ]
    },
    {
      "cell_type": "code",
      "execution_count": null,
      "metadata": {
        "id": "oF3bcq3BvSed"
      },
      "outputs": [],
      "source": [
        "X_train_tm, X_test_tm, y_train_tm, y_test_tm=train_test_split(train_tm,train['RUL'].clip(upper=195), test_size=0.35, random_state=42)\n",
        "X_train_tm_s=scaler.fit_transform(X_train_tm)\n",
        "X_test_tm_s=scaler.fit_transform(X_test_tm)\n",
        "X_val3=pd.concat([valid['unit_number'],X_valid_3],axis=1)\n",
        "X_valid3 = X_val3.groupby('unit_number').last().reset_index().drop(columns=['unit_number'])\n",
        "X_valid_s=scaler.fit_transform(X_valid3)"
      ]
    },
    {
      "cell_type": "code",
      "execution_count": null,
      "metadata": {
        "colab": {
          "base_uri": "https://localhost:8080/"
        },
        "id": "9FHgjU2MvWeJ",
        "outputId": "54aea209-d50d-4381-ce1c-5d746805a842"
      },
      "outputs": [],
      "source": [
        "lr=Linear_Regression()\n",
        "lr.fit(X_train_tm_s, y_train_tm)\n",
        "\n",
        "y_lr_train = lr.predict(X_train_tm_s)\n",
        "evaluate(y_train_tm,y_lr_train, label='train')\n",
        "\n",
        "y_lr_test = lr.predict(X_test_tm_s)\n",
        "evaluate(y_test_tm, y_lr_test, label='test')\n",
        "\n",
        "y_lr_valid = lr.predict(X_valid_s)\n",
        "evaluate(y_valid, y_lr_valid, label='valid')"
      ]
    },
    {
      "cell_type": "code",
      "execution_count": null,
      "metadata": {
        "colab": {
          "base_uri": "https://localhost:8080/"
        },
        "id": "70XycQsswUmE",
        "outputId": "a3f1068e-c467-4fd0-c284-f44ab4e474c5"
      },
      "outputs": [],
      "source": [
        "regressor.fit(X_train_tm_s, y_train_tm)\n",
        "\n",
        "y_svr_train = regressor.predict(X_train_tm_s)\n",
        "evaluate(y_train_tm,y_svr_train, label='train')\n",
        "\n",
        "y_svr_test = regressor.predict(X_test_tm_s)\n",
        "evaluate(y_test_tm, y_svr_test, label='test')\n",
        "\n",
        "y_svr_valid = regressor.predict(X_valid_s)\n",
        "evaluate(y_valid, y_svr_valid, label='valid')"
      ]
    },
    {
      "cell_type": "code",
      "execution_count": null,
      "metadata": {
        "colab": {
          "base_uri": "https://localhost:8080/"
        },
        "id": "ulNVEBhmwvI9",
        "outputId": "b941fd0d-23a9-42fb-fdbb-e1cda579e353"
      },
      "outputs": [],
      "source": [
        "rf = RandomForestRegressor(max_features=\"sqrt\", random_state=42)\n",
        "rf.fit(X_train_tm_s, y_train_tm)\n",
        "\n",
        "y_hat_train = rf.predict(X_train_tm_s)\n",
        "evaluate(y_train_tm,y_hat_train, label='train')\n",
        "y_hat_test = rf.predict(X_test_tm_s)\n",
        "evaluate(y_test_tm, y_hat_test, label='test')\n",
        "y_hat_valid = rf.predict(X_valid_s)\n",
        "evaluate(y_valid, y_hat_valid, label='valid')"
      ]
    },
    {
      "cell_type": "code",
      "execution_count": null,
      "metadata": {
        "colab": {
          "base_uri": "https://localhost:8080/"
        },
        "id": "FZR8m5-Jw3MA",
        "outputId": "bde823b6-fd9e-4aba-b322-66332f960a04"
      },
      "outputs": [],
      "source": [
        "from sklearn.model_selection import GridSearchCV\n",
        "from sklearn.model_selection import ShuffleSplit\n",
        "from sklearn.ensemble import RandomForestRegressor\n",
        "\n",
        "estimator = RandomForestRegressor()\n",
        "param_grid = {\n",
        "    'n_estimators': [50,90,120],\n",
        "    'max_depth' : [8,9,10],\n",
        "}\n",
        "\n",
        "grid = GridSearchCV(estimator, param_grid, n_jobs=-1, cv=3)\n",
        "\n",
        "grid.fit(X_train_tm_s, y_train_tm)\n",
        "\n",
        "print(grid.best_score_ , grid.best_params_)\n"
      ]
    },
    {
      "cell_type": "code",
      "execution_count": null,
      "metadata": {
        "colab": {
          "base_uri": "https://localhost:8080/"
        },
        "id": "z0wiDdHExgkI",
        "outputId": "2991b486-825f-4d33-d391-8980450bad74"
      },
      "outputs": [],
      "source": [
        "rf=RandomForestRegressor(n_estimators=90,  max_depth=10, n_jobs=-1, random_state=42)\n",
        "rf.fit(X_train_tm_s, y_train_tm)\n",
        "\n",
        "y_hat_train = rf.predict(X_train_tm_s)\n",
        "evaluate(y_train_tm,y_hat_train, label='train')\n",
        "y_hat_test = rf.predict(X_test_tm_s)\n",
        "evaluate(y_test_tm, y_hat_test, label='test')\n",
        "y_hat_valid = rf.predict(X_valid_s)\n",
        "evaluate(y_valid, y_hat_valid, label='valid')"
      ]
    },
    {
      "cell_type": "code",
      "execution_count": null,
      "metadata": {
        "colab": {
          "base_uri": "https://localhost:8080/"
        },
        "id": "ELml07G4yG5S",
        "outputId": "feed8bb2-89b9-49c1-f2d4-1967f6535cc4"
      },
      "outputs": [],
      "source": [
        "\n",
        "xgb = xgboost.XGBRegressor(n_estimators=50,\n",
        "                           max_depth=6,\n",
        "                           learning_rate=0.1,\n",
        "                           reg_lambda=0.02,\n",
        "                           gamma=0.4,\n",
        "                           random_state=42)\n",
        "xgb.fit(X_train_tm_s, y_train_tm)\n",
        "\n",
        "\n",
        "y_hat_train = xgb.predict(X_train_tm_s)\n",
        "evaluate(y_train_tm, y_hat_train, 'train')\n",
        "\n",
        "y_hat_test = xgb.predict(X_test_tm_s)\n",
        "evaluate(y_test_tm, y_hat_test)\n",
        "\n",
        "y_hat_valid = xgb.predict(X_valid_s)\n",
        "evaluate(y_valid, y_hat_valid, label='valid')"
      ]
    },
    {
      "cell_type": "code",
      "execution_count": null,
      "metadata": {
        "colab": {
          "base_uri": "https://localhost:8080/",
          "height": 443
        },
        "id": "U8qvjBjhyvCD",
        "outputId": "771fca16-f10a-47fe-d93e-739b00bba09e"
      },
      "outputs": [],
      "source": [
        "train_tm"
      ]
    },
    {
      "cell_type": "code",
      "execution_count": null,
      "metadata": {
        "colab": {
          "base_uri": "https://localhost:8080/"
        },
        "id": "tLnG_mxly2lX",
        "outputId": "4c8cf899-989d-4446-b357-a775ca6882e8"
      },
      "outputs": [],
      "source": [
        "from sklearn.model_selection import KFold\n",
        "train_tm_cv=train_tm.copy()\n",
        "y=train['RUL'].clip(upper=195)\n",
        "scores_train=[]\n",
        "scores_test=[]\n",
        "scores_validation=[]\n",
        "\n",
        "cv = KFold(n_splits=4, shuffle=True)\n",
        "for train_index, test_index in cv.split(train_tm) :\n",
        "    print(\"Index du train : \", train_index, \"\\n\")\n",
        "    print(\"Index de test : \", test_index)\n",
        "    X_train, X_test, y_train, y_test = train_tm.iloc[train_index,:], train_tm.iloc[test_index,:],y[train_index], y[test_index]\n",
        "    regressor.fit(scaler.fit_transform(X_train), y_train)\n",
        "    y_hat_train = regressor.predict(scaler.fit_transform(X_train))\n",
        "    evaluate(y_train,y_hat_train, label='train')\n",
        "    y_hat_test = regressor.predict(scaler.fit_transform(X_test))\n",
        "    evaluate(y_test, y_hat_test, label='test')\n",
        "    y_hat_valid = regressor.predict(scaler.fit_transform(X_valid3))\n",
        "    evaluate(y_valid, y_hat_valid, label='valid')"
      ]
    },
    {
      "cell_type": "code",
      "execution_count": null,
      "metadata": {
        "id": "pT1u9HDDzusj"
      },
      "outputs": [],
      "source": [
        "dftm= pd.concat([train['unit_number'],train_tm,train['RUL']],axis=1)"
      ]
    },
    {
      "cell_type": "code",
      "execution_count": null,
      "metadata": {
        "colab": {
          "base_uri": "https://localhost:8080/",
          "height": 443
        },
        "id": "IQQTY74zz0wq",
        "outputId": "adcddfcf-05aa-4018-ff5c-10a577f13928"
      },
      "outputs": [],
      "source": [
        "dftm"
      ]
    },
    {
      "cell_type": "code",
      "execution_count": null,
      "metadata": {
        "colab": {
          "base_uri": "https://localhost:8080/",
          "height": 1000
        },
        "id": "TBoj22d20LBS",
        "outputId": "a026520f-49bf-436d-c7fd-7c2959d8a2a5"
      },
      "outputs": [],
      "source": [
        "fig, ax = plt.subplots(figsize =(10, 7))\n",
        "m=ax.hist(list(train['RUL']), bins = 2, edgecolor='black')\n",
        "\n",
        "plt.show()\n",
        "print(m)\n",
        "\n",
        "fig, ax = plt.subplots(figsize =(10, 7))\n",
        "m=ax.hist(list(train['RUL']), bins = 3, edgecolor='black')\n",
        "\n",
        "plt.show()\n",
        "print(m)\n",
        "\n",
        "fig, ax = plt.subplots(figsize =(10, 7))\n",
        "m=ax.hist(list(train['RUL']), bins = 4, edgecolor='black')\n",
        "plt.show()\n",
        "print(m)\n",
        "\n",
        "l=len(list(train['RUL']))\n",
        "k=l/4\n",
        "def equalObs(x, nbin):\n",
        "    nlen = len(x)\n",
        "    return np.interp(np.linspace(0, nlen, nbin + 1),\n",
        "                     np.arange(nlen),\n",
        "                     np.sort(x))\n",
        "\n",
        "n, bins, patches = plt.hist(list(train['RUL']), equalObs(list(train['RUL']), 2), edgecolor='black')\n",
        "plt.show()\n",
        "print(bins)\n",
        "\n",
        "def equalObs(x, nbin):\n",
        "    nlen = len(x)\n",
        "    return np.interp(np.linspace(0, nlen, nbin + 1),\n",
        "                     np.arange(nlen),\n",
        "                     np.sort(x))\n",
        "\n",
        "n, bins, patches = plt.hist(list(train['RUL']), equalObs(list(train['RUL']), 3), edgecolor='black')\n",
        "plt.show()\n",
        "print(bins)\n",
        "\n",
        "def equalObs(x, nbin):\n",
        "    nlen = len(x)\n",
        "    return np.interp(np.linspace(0, nlen, nbin + 1),\n",
        "                     np.arange(nlen),\n",
        "                     np.sort(x))\n",
        "\n",
        "n, bins, patches = plt.hist(list(train['RUL']), equalObs(list(train['RUL']), 4), edgecolor='black')\n",
        "plt.show()\n",
        "print(bins)"
      ]
    },
    {
      "cell_type": "code",
      "execution_count": null,
      "metadata": {
        "id": "Lj9Dfwso0qOu"
      },
      "outputs": [],
      "source": [
        "label_map={1:\"RISK ZONE\",2:\"MODERATED RISK\",3:\"NO RISK\"}\n",
        "\n",
        "y=[]\n",
        "\n",
        "for k in dftm['RUL']:\n",
        "    if k<=68:\n",
        "        y.append(1)\n",
        "    elif k>69 and k<=137:\n",
        "        y.append(2)\n",
        "    else:\n",
        "        y.append(3)\n",
        "X_train_tm_c, X_test_tm_c, y_train_tm_c, y_test_tm_c=train_test_split(dftm.drop(columns=['unit_number','RUL']),np.array(y), test_size=0.35, stratify=np.array(y))\n",
        "X_train_tm_cs=scaler.fit_transform(X_train_tm_c)\n",
        "X_test_tm_cs=scaler.fit_transform(X_test_tm_c)"
      ]
    },
    {
      "cell_type": "code",
      "execution_count": null,
      "metadata": {
        "id": "pZzFcBja01ud"
      },
      "outputs": [],
      "source": [
        "def mean_absolute_percentage_error(y_true, y_pred):\n",
        "    y_true, y_pred = np.array(y_true), np.array(y_pred)\n",
        "    return np.mean(np.abs((y_true - y_pred) / (y_true)))"
      ]
    },
    {
      "cell_type": "code",
      "execution_count": null,
      "metadata": {
        "id": "qHBS-6c608oy"
      },
      "outputs": [],
      "source": [
        "from sklearn.svm import SVC\n",
        "classifier = SVC(kernel = 'linear',random_state = 1)"
      ]
    },
    {
      "cell_type": "code",
      "execution_count": null,
      "metadata": {
        "id": "9jzcleVC1Fu0"
      },
      "outputs": [],
      "source": [
        "from sklearn.ensemble import RandomForestClassifier\n",
        "clf=RandomForestClassifier(n_estimators=100)"
      ]
    },
    {
      "cell_type": "code",
      "execution_count": null,
      "metadata": {
        "id": "D1j6BpoV1VOi"
      },
      "outputs": [],
      "source": [
        "y_valid_c=[]\n",
        "for k in y_valid['RUL']:\n",
        "    if k<=68:\n",
        "        y_valid_c.append(1)\n",
        "    elif k>69 and k<=137:\n",
        "        y_valid_c.append(2)\n",
        "    else:\n",
        "        y_valid_c.append(3)\n",
        "\n",
        "y_valid_c=np.array(y_valid_c)"
      ]
    },
    {
      "cell_type": "code",
      "execution_count": null,
      "metadata": {
        "colab": {
          "base_uri": "https://localhost:8080/",
          "height": 709
        },
        "id": "nyeMKaG91bqu",
        "outputId": "d7c25853-701f-4ad7-955b-69a2488fbc2c"
      },
      "outputs": [],
      "source": [
        "from sklearn.metrics import confusion_matrix, ConfusionMatrixDisplay\n",
        "from sklearn import metrics\n",
        "\n",
        "classifier.fit(X_train_tm_cs,np.array(y_train_tm_c))\n",
        "y_svc_train=classifier.predict(X_train_tm_cs)\n",
        "\n",
        "y_svc_test=classifier.predict(X_test_tm_cs)\n",
        "\n",
        "\n",
        "cm= confusion_matrix(y_test_tm_c, y_svc_test, labels=classifier.classes_)\n",
        "disp = ConfusionMatrixDisplay(confusion_matrix=cm, display_labels=[label_map[classifier.classes_[0]],label_map[classifier.classes_[1]],label_map[classifier.classes_[2]]])\n",
        "disp.plot()\n",
        "plt.show()\n",
        "\n",
        "print('SVM')\n",
        "print(\"Accuracy score of training %.3f\" %metrics.accuracy_score(y_train_tm_c, y_svc_train))\n",
        "print(\"Error rate of training %.3f\" %mean_absolute_percentage_error(y_train_tm_c,y_svc_train))\n",
        "print(\"Accuracy score of test %.3f\" %metrics.accuracy_score(y_test_tm_c, y_svc_test))\n",
        "print(\"Error rate of test %.3f\" %mean_absolute_percentage_error(y_test_tm_c,y_svc_test))\n",
        "print(metrics.classification_report(y_test_tm_c,y_svc_test))"
      ]
    },
    {
      "cell_type": "code",
      "execution_count": null,
      "metadata": {
        "id": "GECt_Hf81yCk"
      },
      "outputs": [],
      "source": [
        "from sklearn.ensemble import RandomForestClassifier\n",
        "clf=RandomForestClassifier(n_estimators=5)"
      ]
    },
    {
      "cell_type": "code",
      "execution_count": null,
      "metadata": {
        "colab": {
          "base_uri": "https://localhost:8080/",
          "height": 709
        },
        "id": "ZiRvqgt922F5",
        "outputId": "58c3ea33-1dcf-4c54-bbc4-0fa2094265b2"
      },
      "outputs": [],
      "source": [
        "clf.fit(X_train_tm_cs,np.array(y_train_tm_c))\n",
        "y_rfc_train=clf.predict(X_train_tm_cs)\n",
        "y_rfc_test=clf.predict(X_test_tm_cs)\n",
        "cm= confusion_matrix(y_test_tm_c, y_rfc_test, labels=clf.classes_)\n",
        "disp = ConfusionMatrixDisplay(confusion_matrix=cm, display_labels=[label_map[clf.classes_[0]],label_map[clf.classes_[1]],label_map[clf.classes_[2]]])\n",
        "disp.plot()\n",
        "plt.show()\n",
        "\n",
        "print('Random Forest Classifier')\n",
        "print(\"Accuracy score of test %.3f\" %metrics.accuracy_score(y_train_tm_c, y_rfc_train))\n",
        "print(\"Error rate of test %.3f\" %mean_absolute_percentage_error(y_train_tm_c,y_rfc_train))\n",
        "\n",
        "print(\"Accuracy score of test %.3f\" %metrics.accuracy_score(y_test_tm_c, y_rfc_test))\n",
        "print(\"Error rate of test %.3f\" %mean_absolute_percentage_error(y_test_tm_c,y_rfc_test))\n",
        "\n",
        "print(metrics.classification_report(y_test_tm_c,y_rfc_test))"
      ]
    },
    {
      "cell_type": "code",
      "execution_count": null,
      "metadata": {
        "id": "BX2H6X0-5KaY"
      },
      "outputs": [],
      "source": [
        "import joblib\n",
        "\n",
        "joblib.dump(classifier, 'svm_model.pkl')\n",
        "joblib.dump(scaler, 'scaler.pkl')\n"
      ]
    }
  ],
  "metadata": {
    "colab": {
      "provenance": []
    },
    "kernelspec": {
      "display_name": "Python 3",
      "name": "python3"
    },
    "language_info": {
      "codemirror_mode": {
        "name": "ipython",
        "version": 3
      },
      "file_extension": ".py",
      "mimetype": "text/x-python",
      "name": "python",
      "nbconvert_exporter": "python",
      "pygments_lexer": "ipython3",
      "version": "3.12.2"
    }
  },
  "nbformat": 4,
  "nbformat_minor": 0
}
